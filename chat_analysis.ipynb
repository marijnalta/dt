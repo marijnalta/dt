{
 "cells": [
  {
   "cell_type": "markdown",
   "metadata": {},
   "source": [
    "# Whatsapp media analysis\n"
   ]
  },
  {
   "cell_type": "code",
   "execution_count": 7,
   "metadata": {},
   "outputs": [],
   "source": [
    "# Change this string if your chat log has a different name (or rename the file to chat.txt)\n",
    "chat_file = \"chat.txt\"\n",
    "\n",
    "# read chat data\n",
    "with open(chat_file, encoding=\"utf8\") as f:\n",
    "    text = f.readlines()\n",
    "\n",
    "# create dictionary for users\n",
    "users = {}\n",
    "\n",
    "for i in range(len(text)):\n",
    "    # check if message\n",
    "    if text[i].count(\":\") > 1 and text[i][0].isdigit() and \"<Media weggelaten>\" in text[i]:\n",
    "        # get user\n",
    "        content = text[i].split(\"-\", 3)[3:]\n",
    "        username = content[0].split(\":\")[:1]\n",
    "        user = username[0].replace(\" \", \"\", 1)\n",
    "        \n",
    "        # count\n",
    "        if user in users:\n",
    "            users[user] += 1\n",
    "        else:\n",
    "            users[user] = 1\n",
    "\n",
    "# sort\n",
    "users_sorted = []\n",
    "scores_sorted = []\n",
    "\n",
    "while users:\n",
    "    top_user = \"\"\n",
    "    top_score = 0\n",
    "    \n",
    "    for user in users:\n",
    "        if users[user] > top_score:\n",
    "            top_user = user\n",
    "            top_score = users[user]\n",
    "    \n",
    "    users_sorted.append(top_user)\n",
    "    scores_sorted.append(top_score)\n",
    "    del users[top_user]\n",
    "\n",
    "# show\n",
    "for i in range(len(users_sorted)):\n",
    "    print(i + 1, \": \", users_sorted[i], \"(\", scores_sorted[i], \")\")"
   ]
  },
  {
   "cell_type": "code",
   "execution_count": null,
   "metadata": {},
   "outputs": [],
   "source": []
  }
 ],
 "metadata": {
  "kernelspec": {
   "display_name": "Python 3",
   "language": "python",
   "name": "python3"
  },
  "language_info": {
   "codemirror_mode": {
    "name": "ipython",
    "version": 3
   },
   "file_extension": ".py",
   "mimetype": "text/x-python",
   "name": "python",
   "nbconvert_exporter": "python",
   "pygments_lexer": "ipython3",
   "version": "3.6.4"
  }
 },
 "nbformat": 4,
 "nbformat_minor": 2
}
